{
 "cells": [
  {
   "cell_type": "code",
   "execution_count": null,
   "id": "7818b6a3-5987-4ef0-a09d-12221d8f69dd",
   "metadata": {},
   "outputs": [],
   "source": [
    "from PIL import Image\n",
    "import cv2\n",
    "import easyocr\n",
    "image = cv2.imread('./new.jpeg', 1)\n",
    "image = cv2.resize(image, (600, 200))"
   ]
  },
  {
   "cell_type": "code",
   "execution_count": 1,
   "id": "f3c19296-3f9d-4e5a-a592-c02b6bdce58d",
   "metadata": {},
   "outputs": [
    {
     "ename": "NameError",
     "evalue": "name 'cv2' is not defined",
     "output_type": "error",
     "traceback": [
      "\u001b[1;31m---------------------------------------------------------------------------\u001b[0m",
      "\u001b[1;31mNameError\u001b[0m                                 Traceback (most recent call last)",
      "\u001b[1;32m~\\AppData\\Local\\Temp\\ipykernel_13748\\3115395962.py\u001b[0m in \u001b[0;36m<module>\u001b[1;34m\u001b[0m\n\u001b[1;32m----> 1\u001b[1;33m \u001b[0mgray\u001b[0m \u001b[1;33m=\u001b[0m \u001b[0mcv2\u001b[0m\u001b[1;33m.\u001b[0m\u001b[0mcvtColor\u001b[0m\u001b[1;33m(\u001b[0m\u001b[0mimage\u001b[0m\u001b[1;33m,\u001b[0m \u001b[0mcv2\u001b[0m\u001b[1;33m.\u001b[0m\u001b[0mCOLOR_BGR2GRAY\u001b[0m\u001b[1;33m)\u001b[0m\u001b[1;33m\u001b[0m\u001b[1;33m\u001b[0m\u001b[0m\n\u001b[0m\u001b[0;32m      2\u001b[0m \u001b[0mblur\u001b[0m \u001b[1;33m=\u001b[0m \u001b[0mcv2\u001b[0m\u001b[1;33m.\u001b[0m\u001b[0mGaussianBlur\u001b[0m\u001b[1;33m(\u001b[0m\u001b[0mgray\u001b[0m\u001b[1;33m,\u001b[0m \u001b[1;33m(\u001b[0m\u001b[1;36m5\u001b[0m\u001b[1;33m,\u001b[0m\u001b[1;36m5\u001b[0m\u001b[1;33m)\u001b[0m\u001b[1;33m,\u001b[0m \u001b[1;36m0\u001b[0m\u001b[1;33m)\u001b[0m\u001b[1;33m\u001b[0m\u001b[1;33m\u001b[0m\u001b[0m\n\u001b[0;32m      3\u001b[0m \u001b[0medged\u001b[0m \u001b[1;33m=\u001b[0m \u001b[0mcv2\u001b[0m\u001b[1;33m.\u001b[0m\u001b[0mCanny\u001b[0m\u001b[1;33m(\u001b[0m\u001b[0mblur\u001b[0m\u001b[1;33m,\u001b[0m \u001b[1;36m10\u001b[0m\u001b[1;33m,\u001b[0m \u001b[1;36m200\u001b[0m\u001b[1;33m)\u001b[0m\u001b[1;33m\u001b[0m\u001b[1;33m\u001b[0m\u001b[0m\n\u001b[0;32m      4\u001b[0m \u001b[0mcv2\u001b[0m\u001b[1;33m.\u001b[0m\u001b[0mimshow\u001b[0m\u001b[1;33m(\u001b[0m\u001b[1;34m'Canny'\u001b[0m\u001b[1;33m,\u001b[0m \u001b[0medged\u001b[0m\u001b[1;33m)\u001b[0m\u001b[1;33m\u001b[0m\u001b[1;33m\u001b[0m\u001b[0m\n\u001b[0;32m      5\u001b[0m \u001b[0mcv2\u001b[0m\u001b[1;33m.\u001b[0m\u001b[0mwaitKey\u001b[0m\u001b[1;33m(\u001b[0m\u001b[1;36m0\u001b[0m\u001b[1;33m)\u001b[0m\u001b[1;33m\u001b[0m\u001b[1;33m\u001b[0m\u001b[0m\n",
      "\u001b[1;31mNameError\u001b[0m: name 'cv2' is not defined"
     ]
    }
   ],
   "source": [
    "gray = cv2.cvtColor(image, cv2.COLOR_BGR2GRAY) \n",
    "blur = cv2.GaussianBlur(gray, (5,5), 0) \n",
    "edged = cv2.Canny(blur, 10, 200) \n",
    "cv2.imshow('Canny', edged)\n",
    "cv2.waitKey(0)\n",
    "cv2.destroyAllWindows()"
   ]
  },
  {
   "cell_type": "code",
   "execution_count": null,
   "id": "04a80efe",
   "metadata": {},
   "outputs": [],
   "source": [
    "contours, _ = cv2.findContours(edged, cv2.RETR_TREE, cv2.CHAIN_APPROX_SIMPLE)\n",
    "contours = sorted(contours, key = cv2.contourArea, reverse = True)[:5]\n",
    "\n",
    "# loop over the contours\n",
    "for c in contours:\n",
    "    # approximate each contour\n",
    "    peri = cv2.arcLength(c, True)\n",
    "    approx = cv2.approxPolyDP(c, 0.02 * peri, True)\n",
    "    # if the contour has 4 points, we can say\n",
    "    # that we have found our license plate\n",
    "    if len(approx) == 4:\n",
    "        n_plate_cnt = approx\n",
    "        break        \n",
    "\n",
    "# get the bounding box of the contour and \n",
    "# extract the license plate from the image\n",
    "(x, y, w, h) = cv2.boundingRect(n_plate_cnt)\n",
    "license_plate =                      cv2.rectangle(gray,(x,y),(x+w,y+h),(0,255,0),2)   #gray[y:y + h, x:x + w]\n",
    "# cv2.imshow(license_plate)"
   ]
  },
  {
   "cell_type": "code",
   "execution_count": null,
   "id": "54c74f39",
   "metadata": {},
   "outputs": [],
   "source": [
    "# initialize the reader object\n",
    "reader = easyocr.Reader(['en'], gpu=True)\n",
    "# detect the text from the license plate\n",
    "detection = reader.readtext(license_plate)\n",
    "\n",
    "if len(detection) == 0:\n",
    "    # if the text couldn't be read, show a custom message\n",
    "    text = \"Impossible to read the text from the license plate\"\n",
    "    cv2.putText(image, text, (20, 40), cv2.FONT_HERSHEY_SIMPLEX, 0.75, (0, 0, 255), 3)\n",
    "    cv2.imshow('Image', image)\n",
    "    cv2.waitKey(0)\n",
    "else:\n",
    "    # draw the contour and write the detected text on the image\n",
    "    cv2.drawContours(image, [n_plate_cnt], -1, (0, 255, 0), 3)\n",
    "    text = f\"{detection[0][1]} {detection[0][2] * 100:.2f}%\"\n",
    "    cv2.putText(image, text, (x, y - 20), cv2.FONT_HERSHEY_SIMPLEX, 0.75, (0, 255, 0), 2)\n",
    "    # display the license plate and the output image\n",
    "    cv2.imshow('license plate', license_plate)\n",
    "    cv2.imshow('Image', image)\n",
    "    cv2.waitKey(0)"
   ]
  }
 ],
 "metadata": {
  "kernelspec": {
   "display_name": "Python 3 (ipykernel)",
   "language": "python",
   "name": "python3"
  },
  "language_info": {
   "codemirror_mode": {
    "name": "ipython",
    "version": 3
   },
   "file_extension": ".py",
   "mimetype": "text/x-python",
   "name": "python",
   "nbconvert_exporter": "python",
   "pygments_lexer": "ipython3",
   "version": "3.9.13"
  }
 },
 "nbformat": 4,
 "nbformat_minor": 5
}
